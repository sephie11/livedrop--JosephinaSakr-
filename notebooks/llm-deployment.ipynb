!pip -q install torch transformers sentence-transformers faiss-cpu flask pyngrok pyyaml bitsandbytes accelerate
import os, json, time, yaml
import numpy as np
import faiss
import torch

from transformers import AutoModelForCausalLM, AutoTokenizer, pipeline
from sentence_transformers import SentenceTransformer
from flask import Flask, request, jsonify
from pyngrok import ngrok

DEVICE = "cuda" if torch.cuda.is_available() else "cpu"
print("Running on device:", DEVICE)


KNOWLEDGE_BASE = [
    {
        "id": "doc1",
        "title": "User Registration and Account Management",
        "content": """Creating a Shoplite account starts on the sign-up page. New users provide an email address,
a password (minimum 8 characters), and a display name. A verification email is sent automatically; accounts
must be confirmed within 24 hours to stay active. The default role is Buyer. Users who plan to sell can later
upgrade to Seller from Account → Settings → Seller Setup.

Buyers can edit profile details (name, phone, default address) at any time. Password resets are handled by the “Forgot Password” flow,
which emails a one-time link. For extra security, users can enable two-factor authentication (2FA) via SMS or an authenticator app.
If a login is detected from a new device, Shoplite sends a notification email and may require 2FA.

Account deletion is available under Account → Privacy. Deletions enter a 14-day cooling-off period during which users can restore access.
After the period, personally identifying data in order history is anonymized while transaction records are retained for compliance.
Users can export their data (orders, addresses, messages) in JSON or CSV before deletion. Suspicious activity (e.g., repeated chargebacks,
policy abuse) may result in temporary holds, during which some features are restricted until resolved with Support."""
    },
    {
        "id": "doc2",
        "title": "Product Search and Filtering Features",
        "content": """Shoplite search supports basic keywords, quoted phrases, and category scoping (e.g., Electronics → Laptops).
Results are ranked by a blend of query relevance, seller quality signals, in-stock status, and recent sales momentum.
Users can sort by price, rating, newest, or relevance. A faceted filter panel lets buyers refine by brand, price range,
condition (new/refurbished), shipping speed, seller location, and attributes like size or material.

If a query returns no results, the system suggests related categories, removes the narrowest filter, or offers “did you mean” corrections.
Autocomplete displays trending queries, recent views, and top categories. Users can save searches and opt into alerts for restocks or price drops.
Indexing jobs regularly refresh the search catalog by parsing titles, descriptions, and structured attributes.

Sellers improve discoverability by completing attribute fields (brand, model, dimensions) and avoiding keyword stuffing.
When multiple sellers list the same product, Shoplite may merge duplicates into a single product page with multiple offers,
which reduces clutter and concentrates reviews and Q&A. Search behavior adapts to language and locale, including unit conversions where applicable."""
    },
    {
        "id": "doc3",
        "title": "Shopping Cart and Checkout Process",
        "content": """The cart supports items from multiple sellers and persists for signed-in users across sessions.
Buyers can change quantities, remove items, or move them to Save for Later. Inventory is not reserved until checkout;
if stock changes, the cart shows a warning and suggests alternatives.

Checkout has four steps: Address → Shipping → Payment → Review. Address entry performs postal code validation and normalizes fields
(street, city, region) to reduce carrier errors. Shipping options (economy/standard/express) are shown per seller, with estimated
delivery windows that combine seller handling time and carrier SLA. Taxes are calculated based on destination and product tax rules.
Promotional codes and gift credits are applied on the Review step before final confirmation.

After confirmation, buyers receive an order number and email receipt. For digital goods, delivery is immediate by download link
or license email; for physical items, the system places a temporary authorization and captures funds when the seller dispatches
(or immediately for some categories per policy). If any line becomes unavailable before capture, that line is cancelled and the rest
of the order proceeds."""
    },
    {
        "id": "doc4",
        "title": "Payment Methods and Security",
        "content": """Shoplite supports major credit/debit cards, selected digital wallets, and certain regional payment methods depending on country.
Payments are processed by PCI-DSS-compliant providers; card data is tokenized and never stored in raw form by Shoplite.
Risk-based checks may trigger 3-D Secure or additional verification for suspicious transactions.

Fraud controls combine device fingerprinting, velocity limits, IP reputation, and behavioral patterns.
High-risk orders can be placed on manual review or temporarily held before shipment; buyers are notified of the status.
Refunds are issued back to the original payment method. Partial refunds pro-rate taxes and, when required, shipping fees.
Disputes/chargebacks follow provider timelines; sellers should upload shipment proof, delivery scans, and buyer communication to assist investigations.

Sellers connect a payout bank account that must match their business or owner name. Verification may use micro-deposits or open-banking checks.
Payouts are typically weekly, though reserve holds may apply to new or high-risk sellers to cover potential returns or chargebacks.
All payment pages enforce HTTPS and strong content-security policies."""
    },
    {
        "id": "doc5",
        "title": "Order Tracking and Delivery",
        "content": """For most shipments, buyers receive a tracking link on the Orders page and by email.
Common events include Label Created, Picked Up, In Transit, Out for Delivery, and Delivered.
Orders that include items from multiple sellers may split; each parcel has its own tracking number and estimate.

Delivery windows combine seller handling time with the carrier’s SLA and destination. Some items require an adult signature on delivery (clearly shown at checkout).
If a courier misses the recipient, they typically reattempt or hold at a pickup point. Address issues are the most common delay;
checkout validation reduces errors, but if tracking stalls for 48–72 hours, buyers should message the seller from the order page so the conversation is logged for Support.

If a shipment is declared lost by the carrier, Shoplite helps the seller file a claim and assists the buyer with a refund or replacement per policy.
For bulky items or special-handling categories, delivery partners may schedule a time window. Digital items skip physical logistics entirely
and generate immediate confirmation."""
    },
    {
        "id": "doc6",
        "title": "Return and Refund Policies",
        "content": """Most items have a 30-day return window starting from delivery, unless stated otherwise on the product page (e.g., final sale, hygiene-sealed).
Buyers request a Return Authorization (RA) from the order page, select a reason, and upload photos if requested.
Approved returns receive instructions and, when eligible, a pre-paid label; for “changed mind” reasons, buyers may pay return shipping.

Items must be returned in original condition with accessories and packaging. Certain categories—digital goods, consumables, intimate apparel—
are non-returnable unless defective. Once the seller receives the return, they have 2 business days to inspect and record the result.
If approved, refunds are issued back to the original payment method; banks typically post funds within 3–10 business days.
Exchanges or store credits may be offered where available.

If a return is rejected (missing parts, signs of misuse), the seller provides photos and a note; the buyer may choose to have the item shipped back.
Repeated policy abuse can trigger account review under Trust & Safety. All communications remain visible on the order’s timeline for transparency."""
    },
    {
        "id": "doc7",
        "title": "Product Reviews and Ratings",
        "content": """Reviews help other buyers evaluate products and sellers. A review includes a 1–5 star rating, optional text, and optional photos/videos.
Reviews marked Verified Purchase come from accounts with a completed order for that item. Shoplite may wait up to 72 hours after delivery before inviting a review
to reduce pre-delivery bias. Buyers can edit a review once within 30 days; edits are labeled as Edited.

Shoplite moderates for prohibited content: harassment, hate speech, doxxing, illegal items, spam, or paid endorsements without disclosure.
Any user can report a review; flagged entries may be temporarily hidden while under review. Sellers can post one public response to clarify issues or offer help
but cannot change buyer text.

Average product ratings use a weighted mean to reduce manipulation, with recent verified reviews weighted slightly more.
A separate seller rating summarizes communication, shipping accuracy, and dispute outcomes. When duplicate listings are merged into one product page,
review counts are consolidated if products are materially identical."""
    },
    {
        "id": "doc8",
        "title": "Seller Account Setup and Management",
        "content": """Businesses become sellers by completing Know-Your-Business (KYB) in the Verification Center.
Required details include legal name, registration/Tax ID, business address, contact person, and ownership structure.
Beneficial owners may require identity checks. Payout bank accounts must match the business or owner name and may be verified by micro-deposits.

Review typically takes 2–3 business days. During review, sellers can draft listings but cannot receive orders.
After approval, sellers gain access to catalog creation, inventory tools, shipping label purchase, promotions, and analytics dashboards.
New or higher-risk sellers may have a reserve on payouts for an initial period to cover returns and chargebacks.

Sellers must comply with Prohibited Items and Listing Policies. Repeated late shipments, misrepresentation, or fee evasion can trigger warnings,
listing removal, or suspension. Settings allow role-based access for team members (catalog, support, finance) so staff only see what they need."""
    },
    {
        "id": "doc9",
        "title": "Inventory Management for Sellers",
        "content": """Each listing requires a unique SKU. Variations (size, color, capacity) are modeled as child SKUs under a parent product.
Sellers update stock manually, upload bulk CSV files, or integrate via Seller API and webhooks for real-time sync.
Shoplite supports reserved stock: when an order is placed, units are deducted immediately; if payment fails, stock is returned.

Low-stock thresholds trigger dashboard badges and email alerts. Sellers may enable backorders for eligible items; the product page displays the expected restock date
and extended handling time. Negative inventory is blocked, and listings auto-pause at zero. Multi-warehouse support lets sellers store quantities per location,
improving shipping estimates by buyer address.

Audit logs record who changed stock and when. For “Fulfilled by Shoplite,” inventory moves through inbound shipments with storage limits and cycle counts.
Clean attribute data (brand, model, barcode/GTIN) improves search quality and helps the platform merge duplicates correctly."""
    },
    {
        "id": "doc10",
        "title": "Commission, Fees and Invoices",
        "content": """Shoplite charges a final value fee on the item price (and sometimes shipping) when an order completes,
plus a payment processing fee from the payment provider. Fee percentages vary by category and region. Optional services—promoted placements,
branded packaging, or fulfillment programs—may carry additional fees. New or high-risk sellers can be subject to a temporary reserve.

Sellers receive a monthly statement with line-item fees and downloadable invoices for accounting. Taxes and VAT handling follow local rules;
in some regions, the marketplace may be deemed the seller of record for tax collection on certain orders. Sellers are responsible for configuring
tax settings where applicable and keeping registration details up to date.

Examples on the statement include sale amount, final value fee, payment fee, refunds (with pro-rated fee reversals where applicable),
and adjustments (promotions, credits). Transparent reporting helps sellers reconcile payouts to bank deposits. Fee schedules are published
in the Help Center and may change with notice."""
    },
    {
        "id": "doc11",
        "title": "Customer Support Procedures",
        "content": """Support channels include the Help Center, web chat, and email. Typical SLA targets are quick acknowledgement (within hours)
and resolution within a few business days depending on complexity. Sensitive account changes require identity checks (order details,
last four digits of phone, or 2FA confirmation). For seller–buyer disputes, Shoplite encourages conversation within the order message thread first,
since it’s visible to Support.

Common issues include tracking delays, return eligibility, damaged items, and payment holds. Agents consult policy playbooks and can grant exceptions
(e.g., partial refunds, label upgrades) when guidelines allow. Escalations move to specialized teams (payments risk, policy enforcement, or technical).
If the platform is at fault (e.g., system bug), Shoplite may issue courtesy credits.

Support prioritizes safety and privacy. Agents never ask for full card numbers or passwords, and they redact sensitive data in tickets.
Case outcomes and next steps are summarized in writing, and satisfaction surveys are optional after closure."""
    },
    {
        "id": "doc12",
        "title": "Mobile App Features",
        "content": """The Shoplite mobile app includes biometric login (device-supported), saved searches, push notifications for price drops,
restocks, and delivery updates, and an offline cart that syncs when connectivity returns. Product pages support pinch-to-zoom, image galleries,
and quick add-to-cart. Buyers can scan barcodes to search or quickly reorder past items.

Order tracking shows a timeline with carrier events and map snapshots when available. Chat with sellers is integrated into order details,
with photo attachments for damaged-item claims. App-only promotions or early access events may appear as push campaigns;
users can manage notification preferences in Settings.

Sellers can use the app to respond to messages, adjust prices/quantities, print or share labels (where supported),
and receive low-stock alerts. The app respects device privacy settings and uses minimal background activity to save battery."""
    },
    {
        "id": "doc13",
        "title": "Developer API Overview",
        "content": """The Seller/Partner API enables catalog, inventory, order, and messaging integrations.
Authentication uses API keys with HMAC signatures on webhook callbacks. Rate limits protect platform stability;
clients should implement backoff on 429 responses. Common endpoints include /products, /offers, /inventory, /orders, and /messages.
Pagination is cursor-based.

Webhooks (e.g., order.created, order.shipped, refund.issued) notify systems in near-real time;
endpoints must verify signatures and return 2xx quickly. The sandbox environment mirrors production features with test data
and no financial impact. Error payloads include a stable code, human-readable message, and a trace_id to share with Support.

Best practices: validate required attributes, keep SKUs stable, and use idempotency keys when updating offers.
For security, rotate API keys regularly and scope permissions to the minimum needed. Detailed field definitions
and code samples are provided in the API guide."""
    },
    {
        "id": "doc14",
        "title": "Security and Privacy Policies",
        "content": """Shoplite follows data minimization and least-privilege principles. Access to user data is restricted by role,
and sensitive operations are logged. Data in transit uses HTTPS; sensitive data at rest is encrypted.
Employees receive periodic security training, and third-party vendors are assessed for risk.
A formal incident response plan defines investigation and notification timelines in case of a breach.

Users can review and update their information, export a machine-readable copy of their data,
and request deletion from Account → Privacy (subject to legal retention). The platform uses cookies for essential site functionality
and analytics; advertising cookies can be controlled via preferences. Anti-fraud tools (device signals, IP reputation) operate
under a legitimate interest basis to protect users.

Security researchers can report vulnerabilities through a responsible disclosure process.
Shoplite publishes policy updates and maintains a changelog so users know what changed and why.
The company does not sell personal data and responds to lawful requests according to applicable regulations."""
    },
    {
        "id": "doc15",
        "title": "Promotional Codes and Discounts",
        "content": """Promotions include public codes, targeted offers (email/app), single-use codes, and automatic cart discounts.
Rules can require a minimum cart value, specific categories, or first-time buyers. Some codes stack; others are non-stackable.
Eligibility and expiration are shown at checkout; expired or ineligible codes display clear messages.

Codes are applied on the Review step before payment capture. If an item is cancelled or returned,
Shoplite recalculates discounts fairly and may remove the promotion if eligibility is no longer met.
Abusive behavior (e.g., sharing targeted codes, creating multiple accounts to reuse single-use codes)
can result in removal of the discount and account review.

Sellers can fund their own coupons for store-wide or item-level promotions. The dashboard provides basic reports:
redemptions, incremental sales, and gross margin impact. Platform-wide events (e.g., seasonal sales) may include
additional visibility for participating offers while following the same transparency rules for buyers."""
    }
]

print(f"Knowledge base loaded with {len(KNOWLEDGE_BASE)} documents")
for d in KNOWLEDGE_BASE[:3]:
    print("-", d["title"])

import yaml

PROMPTS_YAML = r"""
# Shoplite RAG Assistant Prompts
version: "1.0"
created: "2025-09-30"
author: "Josephina Sakr"

base_retrieval_prompt:
  role: |
    You are a helpful Shoplite customer service assistant.
  goal: |
    Answer questions using only the provided Shoplite documentation snippets.
  context_guidelines:
    - "Never use outside knowledge."
    - "If multiple snippets are given, combine them carefully."
    - "Always cite document titles in Sources."
    - "Quote numbers and timeframes exactly as written in Context (do not guess)."
    - "If the information is not stated in Context, reply: 'Not found in the provided docs.'"
    - "Keep the answer to 1–2 sentences. Do not repeat the question."
  response_format: |
    Answer (1–2 sentences, no repetition): <your answer here>
    Sources (semicolon-separated): <document titles>

multi_doc_prompt:
  role: |
    You are a Shoplite support analyst skilled at combining multiple documents.
  goal: |
    Provide a single, clear answer that pulls facts from 2–3 different snippets.
  context_guidelines:
    - "Explain connections briefly but don’t invent information."
    - "If snippets conflict, choose the more specific policy."
    - "Use only numbers/dates that appear in Context."
    - "Limit the answer to 1–2 sentences. Do not repeat yourself."
    - "End with Sources listing all used documents (semicolon-separated)."
  response_format: |
    Answer: <synthesized multi-doc answer>
    Sources: <doc A; doc B; doc C>

no_context_refusal_prompt:
  role: |
    You are a careful assistant who refuses to guess.
  goal: |
    Politely decline when no relevant documents are retrieved.
  context_guidelines:
    - "Do not make up answers."
    - "Offer to clarify or suggest rephrasing."
  response_format: |
    Answer: I'm sorry, I couldn’t find this in the Shoplite documentation. Could you clarify or ask another question?
    Sources: None

clarify_prompt:
  role: |
    You are a clarifying assistant.
  goal: |
    Ask a short clarifying question when the user query is too vague or ambiguous.
  context_guidelines:
    - "Give 1–2 possible interpretations."
    - "Keep the question polite and simple."
  response_format: |
    Answer: Could you clarify if you mean X or Y?
    Sources: N/A

chain_of_thought_prompt:
  role: |
    You are a reasoning assistant.
  goal: |
    Think step by step before giving the final answer.
  context_guidelines:
    - "First, list up to 3 key points from the retrieved docs (very brief)."
    - "Then, combine them logically."
    - "Finally, give a short, clear answer with Sources."
    - "Keep the final answer to 1–2 sentences."
  response_format: |
    Reasoning: <brief steps>
    Answer: <final concise answer>
    Sources: <document titles>
"""

PROMPTS = yaml.safe_load(PROMPTS_YAML)

required_keys = [
    "base_retrieval_prompt",
    "multi_doc_prompt",
    "no_context_refusal_prompt",
    "clarify_prompt",
    "chain_of_thought_prompt",
]
missing = [k for k in required_keys if k not in PROMPTS]
assert not missing, f"Missing prompt keys: {missing}"
print("Prompts loaded:", list(PROMPTS.keys()))


MODEL_ID = "facebook/opt-125m"

print("Loading model:", MODEL_ID)
tokenizer = AutoTokenizer.from_pretrained(MODEL_ID)
model = AutoModelForCausalLM.from_pretrained(MODEL_ID)

gen = pipeline(
    "text-generation",
    model=model,
    tokenizer=tokenizer,
    device_map="auto",
    max_new_tokens=80,
    do_sample=False,
    temperature=0.0,
)

print("Model ready.")


EMBEDDER_ID = "sentence-transformers/all-MiniLM-L6-v2"
embedder = SentenceTransformer(EMBEDDER_ID)


def create_embeddings(docs):
    texts = [f"{d['title']}\n{d['content']}" for d in docs]
    emb = embedder.encode(texts, convert_to_numpy=True, normalize_embeddings=True).astype(np.float32)
    index = faiss.IndexFlatIP(emb.shape[1])
    index.add(emb)
    return index, emb

INDEX, EMBEDS = create_embeddings(KNOWLEDGE_BASE)

def retrieve_docs(query, k=3):
    q = embedder.encode([query], convert_to_numpy=True, normalize_embeddings=True).astype(np.float32)
    D, I = INDEX.search(q, k)
    return [KNOWLEDGE_BASE[i] for i in I[0]]

def generate_response(query, k=3, prompt_key="base_retrieval_prompt"):
    docs = retrieve_docs(query, k=k)
    cfg = PROMPTS.get(prompt_key, PROMPTS["base_retrieval_prompt"])
    role = cfg.get("role", "")
    goal = cfg.get("goal", "")
    context = "\n\n".join([f"{d['title']}: {d['content']}" for d in docs])
    user = f"Question: {query}"

    prompt = f"{role}\n\n{goal}\n\nContext:\n{context}\n\n{user}"

    out = gen(
        prompt,
        max_new_tokens=128,
        do_sample=True,
        temperature=0.2,
        top_p=0.9,
        pad_token_id=tokenizer.eos_token_id,
    )[0]["generated_text"]

    return out, [d["title"] for d in docs]



app = Flask(__name__)

@app.route("/chat", methods=["POST"])
def chat():
    data = request.get_json()
    query = data.get("query", "")
    if not query:
        return jsonify({"error": "No query provided"}), 400

    answer, sources = generate_response(query, k=3)
    return jsonify({
        "query": query,
        "answer": answer,
        "sources": sources
    })

@app.route("/ping", methods=["POST"])
def ping():
    data = request.get_json()
    query = data.get("query", "")
    if not query:
        return jsonify({"error": "No query provided"}), 400

    out = gen(
        query,
        max_new_tokens=128,
        do_sample=True,
        temperature=0.2,
        top_p=0.9,
        pad_token_id=tokenizer.eos_token_id,
    )[0]["generated_text"]

    return jsonify({"query": query, "answer": out})

@app.route("/health", methods=["GET"])
def health():
    return jsonify({"status": "ok", "device": DEVICE, "docs": len(KNOWLEDGE_BASE)})


ngrok_token = input("Enter your ngrok token: ").strip()
ngrok.set_auth_token(ngrok_token)

public_url = ngrok.connect(5000)
print("Public URL:", public_url)

from threading import Thread

def run_app():
    app.run(port=5000)

thread = Thread(target=run_app)
thread.start()

ngrok.kill()


import requests, json

BASE =  "https://fattenable-unlevied-carie.ngrok-free.dev"

print("Testing against:", BASE)

print("\n/health ->", requests.get(BASE + "/health").json())

res_ping = requests.post(BASE + "/ping", json={"query": "Hello model!"})
print("\n/ping ->", res_ping.json())

res_chat = requests.post(BASE + "/chat", json={"query": "How long does seller verification take?"})
print("\n/chat ->", json.dumps(res_chat.json(), indent=2))
