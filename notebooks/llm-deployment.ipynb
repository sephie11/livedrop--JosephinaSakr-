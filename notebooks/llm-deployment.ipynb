{
  "cells": [
    {
      "cell_type": "code",
      "execution_count": null,
      "metadata": {
        "id": "kZ3rfTFKgM8k"
      },
      "outputs": [],
      "source": [
        "!pip -q install torch transformers sentence-transformers faiss-cpu flask pyngrok pyyaml bitsandbytes accelerate\n"
      ]
    },
    {
      "cell_type": "code",
      "execution_count": null,
      "metadata": {
        "id": "zFAwHjn1gg7u"
      },
      "outputs": [],
      "source": [
        "import os, json, time, yaml, re\n",
        "from flask import Flask, request, jsonify\n",
        "from sentence_transformers import SentenceTransformer\n",
        "import faiss, numpy as np\n",
        "from transformers import AutoModelForCausalLM, AutoTokenizer, BitsAndBytesConfig, pipeline\n",
        "\n",
        "# --- Redactor: strip PII from any free text before the model ---\n",
        "EMAIL = re.compile(r\"[A-Za-z0-9._%+-]+@[A-Za-z0-9.-]+\\.[A-Za-z]{2,}\")\n",
        "PHONE = re.compile(r\"\\+?\\d[\\d\\-\\s]{7,}\\d\")\n",
        "ADDR  = re.compile(r\"\\b\\d{1,5}\\s+\\w+(\\s\\w+){1,3}\\b\")\n",
        "\n",
        "def redact(text:str)->str:\n",
        "    text = EMAIL.sub(\"[redacted-email]\", text)\n",
        "    text = PHONE.sub(\"[redacted-phone]\", text)\n",
        "    text = ADDR.sub(\"[redacted-address]\", text)\n",
        "    return text\n",
        "\n",
        "def contains_pii(text:str)->bool:\n",
        "    return bool(EMAIL.search(text) or PHONE.search(text) or ADDR.search(text))\n"
      ]
    },
    {
      "cell_type": "code",
      "execution_count": null,
      "metadata": {
        "id": "vAYFQDpWhtr3"
      },
      "outputs": [],
      "source": [
        "KB = [\n",
        "    {\n",
        "        \"id\":\"doc01\",\n",
        "        \"title\":\"User Registration & Accounts\",\n",
        "        \"content\":\"\"\"ShopLite offers both buyer and seller accounts, giving flexibility for customers who only wish to shop and for businesses that want to sell. Buyers register by providing an email, a password, and optional phone number. Email verification is required within 24 hours to activate the account. Passwords must meet strong requirements: at least twelve characters, one number, and one symbol. Multi-factor authentication (MFA) via authenticator apps is supported to reduce account takeover risks.\n",
        "\n",
        "Sellers begin with a buyer account and then upgrade. This process requires submitting business details such as tax ID, return address, and payout bank information. Verification is normally completed in 2–3 business days. Once approved, sellers access the Seller Dashboard where they can list products, manage orders, and monitor payouts.\n",
        "\n",
        "Users can reset their password through secure email links. Accounts are locked after multiple failed attempts, but unlock automatically after 15 minutes or with a password reset. Account deletion requests permanently erase personal data within 30 days, except for legally required records like invoices and completed orders. Export of personal data is available before deletion for transparency.\"\"\"},\n",
        "    {\n",
        "        \"id\":\"doc02\",\n",
        "        \"title\":\"Product Search & Filters\",\n",
        "        \"content\":\"\"\"ShopLite’s search system is designed to help customers find products quickly and accurately. Users can search by keyword or apply structured filters such as category, brand, price range, average rating, and availability. Typeahead suggestions surface up to five SKUs, with a preference for items in stock. These suggestions are refreshed hourly through cached results, ensuring speed while maintaining accuracy.\n",
        "\n",
        "Natural language queries such as “under $50” or “4-star and up” are automatically translated into structured filters. Sorting options allow customers to view results by relevance (default), lowest price, highest price, rating, or newest arrivals. Misspellings are corrected when confidence exceeds a threshold of 0.8, minimizing frustration for customers.\n",
        "\n",
        "Restricted or adult items never appear in general search results, regardless of filters. Additional safety checks prevent harmful or inappropriate queries from returning results. The search pipeline prioritizes relevance while balancing performance, with p95 latency goals kept under 300ms. By combining structured filtering, semantic understanding, and fast caching, ShopLite’s search ensures users can easily find what they are looking for.\"\"\"},\n",
        "    {\n",
        "        \"id\":\"doc03\",\n",
        "        \"title\":\"Semantic Search & Relevance\",\n",
        "        \"content\":\"\"\"Beyond simple keyword search, ShopLite employs semantic embeddings to provide more intelligent results. This means queries such as “cheap running shoes” will retrieve items related to athletic footwear, even if the exact phrase does not match. All retrieved results must correspond to valid in-catalog SKUs; validators prevent any off-catalog hallucinations.\n",
        "\n",
        "A reranking step evaluates candidate results, scoring them based on overlap with product titles, attributes, and historical click-through data. Items most relevant to the user’s intent are surfaced at the top. This ensures not only semantic accuracy but also alignment with real customer preferences.\n",
        "\n",
        "Caching plays a large role in performance. Around 70% of frequent queries are cached, with refresh cycles set to maintain accuracy. P95 latency for typeahead is targeted at under 300ms, making suggestions feel instantaneous.\n",
        "\n",
        "If queries contain banned or inappropriate terms, the system responds with a safe refusal message and alternative category links. By blending embeddings, rerankers, and guardrails, ShopLite ensures search remains useful, relevant, and aligned with customer expectations while minimizing integration risks.\"\"\"},\n",
        "    {\n",
        "        \"id\":\"doc04\",\n",
        "        \"title\":\"Cart & Checkout\",\n",
        "        \"content\":\"\"\"The ShopLite cart supports products from multiple sellers, allowing customers to shop across the marketplace seamlessly. Items can be added, removed, or updated in quantity at any time. Customers can also mark items as “save for later,” creating a lightweight wishlist.\n",
        "\n",
        "At checkout, users confirm shipping address, select preferred shipping speed, and choose a payment method. Tax and shipping estimates are displayed upfront for transparency. Promotional codes can be applied either in the cart or during checkout. Some codes stack, while others are restricted to avoid double discounts; combinability rules are clearly marked.\n",
        "\n",
        "The cart persists across sessions for logged-in users and for seven days for guests using cookies. If inventory changes between sessions, users are notified before checkout. Items in short supply are flagged with warnings. Cart abandonment is tracked, and users may receive reminders or discounts to complete their purchases.\n",
        "\n",
        "This flow ensures that customers have a smooth and trustworthy path from product discovery to order confirmation while giving sellers a reliable system for managing transactions.\"\"\"},\n",
        "    {\n",
        "        \"id\":\"doc05\",\n",
        "        \"title\":\"Payments & Security\",\n",
        "        \"content\":\"\"\"ShopLite supports multiple payment methods including major credit and debit cards, Apple Pay, Google Pay (where available), and ShopLite gift cards. Payments are routed through PCI-compliant gateways, ensuring that sensitive card data never touches ShopLite servers. All transactions are encrypted in transit and monitored for unusual activity.\n",
        "\n",
        "Refunds are issued back to the original payment method. Partial refunds are supported, giving sellers flexibility in handling returns or partial shipments. For customers in the EU, PSD2 and Strong Customer Authentication (SCA) may require additional verification steps such as one-time passcodes.\n",
        "\n",
        "Security is prioritized at every stage. Suspicious or high-value transactions may be flagged and held for manual review. Customers are informed promptly by email if additional verification is needed. Payment history is securely stored in compliance with financial regulations.\n",
        "\n",
        "ShopLite also runs automated fraud detection checks, which analyze patterns such as repeated failed payments, mismatched addresses, or unusually large orders. By combining modern payment convenience with strict security controls, the platform ensures safe and reliable transactions for both buyers and sellers.\"\"\"},\n",
        "    {\n",
        "        \"id\":\"doc06\",\n",
        "        \"title\":\"Order Tracking & Delivery\",\n",
        "        \"content\":\"\"\"Once an order is placed, ShopLite assigns a unique order ID and provides a tracking link. Customers can follow the shipment status directly from their account dashboard or email confirmations. Common status updates include “Processing,” “Shipped,” “Out for delivery,” and “Delivered.”\n",
        "\n",
        "Standard delivery typically ranges between 3–7 business days. Expedited shipping options are available depending on the carrier and destination. Shipping costs and estimated arrival dates are calculated during checkout so customers can make informed choices.\n",
        "\n",
        "Customers can request an address change only before the order has been marked as “Shipped.” After that point, changes require carrier intervention and may delay delivery. If a delivery issue occurs, customers can initiate a support ticket. ShopLite coordinates with carriers to investigate lost, delayed, or damaged packages.\n",
        "\n",
        "Delivery reliability is tracked across carriers to improve service quality. Notifications are sent by email or mobile app whenever status changes occur. With clear tracking and responsive support, ShopLite ensures customers remain confident about their order’s journey.\"\"\"},\n",
        "    {\n",
        "        \"id\":\"doc07\",\n",
        "        \"title\":\"Returns & Refunds\",\n",
        "        \"content\":\"\"\"ShopLite offers a straightforward 30-day return policy, beginning from the date of delivery. Items must be unused and returned in their original packaging unless defective. Categories such as perishable goods, personalized items, or digital downloads are non-returnable, and these exceptions are clearly labeled on product pages.\n",
        "\n",
        "Customers initiate returns from the Order Details page, where they can request a Return Merchandise Authorization (RMA). A prepaid shipping label may be provided depending on the seller’s policy. Once the return is received and inspected, refunds are issued within 5–10 business days to the original payment method.\n",
        "\n",
        "If products arrive damaged or defective, customers may request replacements instead of refunds. Refunds include the product cost and applicable taxes, but shipping fees may be excluded unless the return is due to seller error.\n",
        "\n",
        "ShopLite’s system keeps customers informed with return status updates by email and dashboard notifications. This clear and consistent approach to returns builds trust and reduces support overhead, ensuring customers feel secure in their purchases.\"\"\"},\n",
        "    {\n",
        "        \"id\":\"doc08\",\n",
        "        \"title\":\"Seller Setup & Management\",\n",
        "        \"content\":\"\"\"To begin selling on ShopLite, individuals or businesses must upgrade their buyer account to a seller account. This process requires submitting verification documents such as tax ID, business address, and bank details for payouts. Verification typically takes 2–3 business days. Once approved, sellers gain access to the Seller Dashboard.\n",
        "\n",
        "The dashboard enables storefront customization, including branding, return address, and shipping templates. Sellers can add products manually, upload CSV files, or use ShopLite’s API for large catalogs. Inventory and pricing can be updated in bulk.\n",
        "\n",
        "Performance metrics such as on-time shipping, cancellation rate, and average rating are tracked and displayed on the dashboard. Consistently poor performance may result in penalties, warnings, or suspension of listings.\n",
        "\n",
        "Payouts are issued weekly and include a detailed breakdown of sales, fees, and commissions. Sellers also have access to support resources and documentation. By offering robust tools and clear rules, ShopLite ensures that sellers can operate effectively while maintaining high standards for buyers.\"\"\"},\n",
        "    {\n",
        "        \"id\":\"doc09\",\n",
        "        \"title\":\"Inventory Management\",\n",
        "        \"content\":\"\"\"ShopLite provides comprehensive tools for managing product inventory. Each SKU includes structured fields such as title, description, category, price, stock quantity, images, and shipping class. This ensures consistency across the marketplace.\n",
        "\n",
        "Sellers can upload or edit products individually, through CSV bulk uploads, or via the ShopLite API. Inventory updates are reflected in near real-time. Low-stock alerts can be configured, notifying sellers when stock falls below a set threshold.\n",
        "\n",
        "Backorders are allowed only for SKUs marked as “backorderable.” In these cases, the product detail page displays an estimated ship date, helping customers make informed decisions. Bulk editing features allow sellers to adjust pricing, availability, or categories for multiple SKUs simultaneously.\n",
        "\n",
        "All changes are logged in the seller dashboard for accountability. Reports help sellers analyze sales trends, stock levels, and forecast demand. These features give sellers control over their inventory while ensuring that buyers always see accurate and up-to-date information when shopping.\"\"\"},\n",
        "    {\n",
        "        \"id\":\"doc10\",\n",
        "        \"title\":\"Commission & Fees\",\n",
        "        \"content\":\"\"\"ShopLite earns revenue through commissions and fees. Each product category carries a base commission rate ranging from 5% to 15%. In addition, a fixed fee of $0.30 is charged per order item. This structure ensures that both low-cost and high-value items contribute fairly.\n",
        "\n",
        "Refunds automatically adjust commissions. If an item is refunded, ShopLite returns the proportional commission to the seller. Additional services such as promoted listings, fulfillment, or premium storefront customization carry separate fees. These are clearly listed in the seller’s monthly statement.\n",
        "\n",
        "Sellers receive a detailed invoice each month outlining all commissions, service fees, and adjustments. Transparency in fees helps sellers understand their costs and plan accordingly.\n",
        "\n",
        "By balancing fair commission rates with optional paid features, ShopLite creates a sustainable business model that supports platform operations while rewarding seller success. The system ensures that sellers always know where their earnings are going.\"\"\"},\n",
        "    {\n",
        "        \"id\":\"doc11\",\n",
        "        \"title\":\"Customer Support\",\n",
        "        \"content\":\"\"\"ShopLite provides multiple support channels to assist customers. These include a self-service help center, email support, and live chat. The help center prioritizes answers drawn directly from ShopLite’s policies and FAQ documents.\n",
        "\n",
        "For order-related issues, live chat integrates with the order-status API. Customers can check their order progress in real time without waiting for an agent. If the query is outside scope, the chat system politely refuses and directs the customer to available resources.\n",
        "\n",
        "Escalations from chat or email generate tickets in the support system. Standard response time for normal cases is within 24 hours. Urgent issues such as delivery failures or payment errors are flagged for resolution within 8 hours.\n",
        "\n",
        "Support staff have access to detailed customer and order histories, enabling efficient troubleshooting. By combining automated self-service with human agents, ShopLite ensures that customer needs are addressed quickly, consistently, and fairly.\"\"\"},\n",
        "    {\n",
        "        \"id\":\"doc12\",\n",
        "        \"title\":\"Reviews & Ratings\",\n",
        "        \"content\":\"\"\"ShopLite allows verified purchasers to leave product reviews and ratings. Ratings are provided on a 1–5 star scale, accompanied by optional text reviews. Offensive or inappropriate language is automatically filtered before posting.\n",
        "\n",
        "Sellers may respond publicly to reviews once, allowing them to address customer concerns or thank buyers for feedback. This builds trust and transparency between buyers and sellers.\n",
        "\n",
        "On product detail pages, reviews are summarized. Summaries must be based only on real phrases extracted from actual reviews. Automated systems prevent hallucinated claims or misleading statements.\n",
        "\n",
        "Review authenticity is enforced by linking reviews to confirmed purchases. Customers cannot review products they have not purchased. Reports of fraudulent reviews are investigated, and confirmed violations may result in removal or penalties.\n",
        "\n",
        "By encouraging honest feedback and providing clear safeguards, ShopLite maintains review quality and helps customers make confident purchasing decisions.\"\"\"},\n",
        "    {\n",
        "        \"id\":\"doc13\",\n",
        "        \"title\":\"Mobile App\",\n",
        "        \"content\":\"\"\"The ShopLite mobile app mirrors the core features of the website, giving customers flexibility to shop on the go. Features include product search, filters, cart management, checkout, order tracking, and customer support chat.\n",
        "\n",
        "Push notifications keep users informed of key events such as price drops, shipping updates, and return approvals. Customers can customize notification settings to avoid overload. Biometric login methods, including fingerprint and facial recognition, offer secure and convenient authentication.\n",
        "\n",
        "An offline mode caches recently viewed pages and saved carts. While browsing is possible offline, checkout is disabled until the user reconnects. App updates are released regularly to maintain performance and security.\n",
        "\n",
        "The app also integrates with device-level payment systems such as Apple Pay and Google Pay, making mobile checkout faster. By combining convenience, security, and continuity with the desktop site, the mobile app enhances the overall ShopLite shopping experience.\"\"\"},\n",
        "    {\n",
        "        \"id\":\"doc14\",\n",
        "        \"title\":\"API for Developers\",\n",
        "        \"content\":\"\"\"ShopLite provides public APIs to allow developers to build integrations and apps. Access requires API keys, which can be generated in the developer portal. Standard rate limits are 60 requests per minute, with burst capacity up to 120 requests for short periods.\n",
        "\n",
        "Key endpoints include product search, order tracking by order ID, and account management. Sensitive information such as personal data is excluded from responses to ensure privacy. Webhooks are available to notify developers when events occur, such as order status changes or refund approvals.\n",
        "\n",
        "Errors follow the RFC 7807 format, returning a JSON object with fields for type, title, and detail. This standardized error handling makes integration easier and more predictable.\n",
        "\n",
        "Developers are encouraged to review ShopLite’s API documentation for best practices. Abuse or violation of terms, such as scraping or excessive requests, may result in suspension of keys.\n",
        "\n",
        "The API ecosystem ensures that ShopLite remains extendable, enabling external tools and services to integrate smoothly with the platform.\"\"\"},\n",
        "    {\n",
        "        \"id\":\"doc15\",\n",
        "        \"title\":\"Security & Privacy\",\n",
        "        \"content\":\"\"\"Security and privacy are central to ShopLite’s operations. Personal data is minimized, encrypted at rest, and transmitted securely. Free-text inputs such as search queries or reviews pass through a redactor, which strips emails, phone numbers, and addresses before any AI processing.\n",
        "\n",
        "Validation layers enforce strict scope for AI responses. Assistants must cite retrieved documents and refuse to answer if context is missing. This prevents unsupported claims and ensures accuracy.\n",
        "\n",
        "ShopLite complies with data protection laws including GDPR and CCPA. Users can request a copy of their stored data and may delete their account entirely. Account deletion removes all personal information within 30 days, except for legally required records such as invoices.\n",
        "\n",
        "In the event of a breach, ShopLite follows established legal timelines for disclosure and remediation. Regular penetration testing and monitoring are performed to detect vulnerabilities. Employees undergo training on secure data handling.\n",
        "\n",
        "By combining proactive safeguards, regulatory compliance, and technical defenses, ShopLite ensures customer trust while continuing to innovate responsibly.\"\"\"}\n",
        "]\n",
        "\n",
        "KB_TITLES = [d[\"title\"] for d in KB]\n"
      ]
    },
    {
      "cell_type": "code",
      "execution_count": null,
      "metadata": {
        "colab": {
          "base_uri": "https://localhost:8080/"
        },
        "id": "WDhvVmsuhwsi",
        "outputId": "5a00ae2c-cd36-4758-c944-2c25fc90f27d"
      },
      "outputs": [
        {
          "output_type": "stream",
          "name": "stdout",
          "text": [
            "15 documents loaded\n",
            "['User Registration & Accounts', 'Product Search & Filters', 'Semantic Search & Relevance', 'Cart & Checkout', 'Payments & Security']\n"
          ]
        }
      ],
      "source": [
        "print(len(KB), \"documents loaded\")\n",
        "print(KB_TITLES[:5])\n"
      ]
    },
    {
      "cell_type": "code",
      "execution_count": null,
      "metadata": {
        "colab": {
          "base_uri": "https://localhost:8080/"
        },
        "id": "Brjt7kMniHJ7",
        "outputId": "f994d045-0438-4779-930c-4d8e2995133b"
      },
      "outputs": [
        {
          "output_type": "stream",
          "name": "stdout",
          "text": [
            "['version', 'created', 'author', 'base_retrieval_prompt', 'multi_doc_synthesis', 'no_context_refusal', 'clarification_needed', 'safety_guardrails']\n"
          ]
        }
      ],
      "source": [
        "import yaml\n",
        "\n",
        "YAML_TEXT = r\"\"\"\n",
        "version: \"1.0\"\n",
        "created: \"2025-09-30\"\n",
        "author: \"Hiba Naim\"\n",
        "\n",
        "base_retrieval_prompt:\n",
        "  role: |\n",
        "    You are a helpful ShopLite customer assistant.\n",
        "  goal: |\n",
        "    Answer using only the provided document snippets.\n",
        "  context_guidelines:\n",
        "    - \"Use only information from the provided snippets (no outside knowledge)\"\n",
        "    - \"Quote key phrases when helpful and cite doc titles\"\n",
        "    - \"If context is insufficient, refuse and suggest next steps\"\n",
        "  response_format: |\n",
        "    Answer: <concise answer based strictly on context>\n",
        "    Sources: <doc titles used>\n",
        "\n",
        "multi_doc_synthesis:\n",
        "  role: |\n",
        "    You synthesize answers across multiple ShopLite docs.\n",
        "  goal: |\n",
        "    Combine policy + procedure correctly when the question spans topics.\n",
        "  context_guidelines:\n",
        "    - \"Merge facts; avoid contradictions\"\n",
        "    - \"Call out conditions and exceptions\"\n",
        "    - \"List each source you used\"\n",
        "  response_format: |\n",
        "    Answer: <step-by-step or bullet summary>\n",
        "    Sources: <Doc A; Doc B>\n",
        "\n",
        "no_context_refusal:\n",
        "  role: |\n",
        "    You are strict about scope.\n",
        "  goal: |\n",
        "    If no relevant snippets are retrieved, refuse to answer.\n",
        "  context_guidelines:\n",
        "    - \"Say you don't have enough information\"\n",
        "    - \"Suggest rephrasing or help center\"\n",
        "  response_format: |\n",
        "    Answer: I don’t have enough ShopLite documentation to answer that.\n",
        "    Next: Please rephrase or visit the Help Center.\n",
        "    Sources: none\n",
        "\n",
        "clarification_needed:\n",
        "  role: |\n",
        "    You request precise details before answering.\n",
        "  goal: |\n",
        "    Ask for 1–2 concrete clarifying questions when the query is ambiguous.\n",
        "  context_guidelines:\n",
        "    - \"Ask short questions\"\n",
        "    - \"Offer likely options\"\n",
        "  response_format: |\n",
        "    Clarify: <two short questions to narrow scope>\n",
        "    Example options: <bulleted options>\n",
        "    Sources: pending\n",
        "\n",
        "safety_guardrails:\n",
        "  role: |\n",
        "    You enforce PII redaction and output validation.\n",
        "  goal: |\n",
        "    Ensure answers never reveal PII and remain within provided docs.\n",
        "  context_guidelines:\n",
        "    - \"Do not echo emails/phones/addresses\"\n",
        "    - \"Do not fabricate SKUs or policies\"\n",
        "  response_format: |\n",
        "    Answer: <safe, grounded reply>\n",
        "    Policy: <which rule constrained the answer>\n",
        "    Sources: <docs>\n",
        "\"\"\"\n",
        "\n",
        "PROMPTS = yaml.safe_load(YAML_TEXT)\n",
        "print(list(PROMPTS.keys()))\n"
      ]
    },
    {
      "cell_type": "code",
      "execution_count": null,
      "metadata": {
        "id": "JP4_V0OgiRoR"
      },
      "outputs": [],
      "source": [
        "emb_model = SentenceTransformer(\"all-MiniLM-L6-v2\")\n",
        "doc_vecs = emb_model.encode([d[\"content\"] for d in KB], convert_to_numpy=True, normalize_embeddings=True)\n",
        "\n",
        "index = faiss.IndexFlatIP(doc_vecs.shape[1])\n",
        "index.add(doc_vecs)\n",
        "\n",
        "def retrieve(query:str, k:int=5):\n",
        "    qv = emb_model.encode([query], convert_to_numpy=True, normalize_embeddings=True)\n",
        "    scores, idxs = index.search(qv, k)\n",
        "    results = []\n",
        "    for i, s in zip(idxs[0], scores[0]):\n",
        "        d = KB[int(i)]\n",
        "        results.append({\"title\": d[\"title\"], \"content\": d[\"content\"], \"score\": float(s)})\n",
        "    return results\n"
      ]
    },
    {
      "cell_type": "code",
      "execution_count": null,
      "metadata": {
        "colab": {
          "base_uri": "https://localhost:8080/"
        },
        "id": "cFBdUpifrRd9",
        "outputId": "a86d066f-6f4c-406c-c23c-55e2b3d01f32"
      },
      "outputs": [
        {
          "output_type": "stream",
          "name": "stdout",
          "text": [
            "Loading model: distilgpt2\n"
          ]
        },
        {
          "output_type": "stream",
          "name": "stderr",
          "text": [
            "Device set to use cpu\n"
          ]
        },
        {
          "output_type": "stream",
          "name": "stdout",
          "text": [
            "Model ready ✅\n"
          ]
        }
      ],
      "source": [
        "# Cell 5: LLM loading and setup (distilgpt2)\n",
        "from transformers import AutoModelForCausalLM, AutoTokenizer, pipeline\n",
        "\n",
        "MODEL_ID = \"distilgpt2\"  # tiny + open-source, perfect for demo\n",
        "\n",
        "print(\"Loading model:\", MODEL_ID)\n",
        "tokenizer = AutoTokenizer.from_pretrained(MODEL_ID)\n",
        "\n",
        "# DistilGPT2 sometimes doesn’t define a pad token → use EOS instead\n",
        "if tokenizer.pad_token_id is None:\n",
        "    tokenizer.pad_token_id = tokenizer.eos_token_id\n",
        "\n",
        "# Load model\n",
        "model = AutoModelForCausalLM.from_pretrained(MODEL_ID)\n",
        "\n",
        "# Setup pipeline (short outputs to keep fast)\n",
        "gen = pipeline(\n",
        "    \"text-generation\",\n",
        "    model=model,\n",
        "    tokenizer=tokenizer,\n",
        "    device_map=\"auto\",     # GPU if available\n",
        "    max_new_tokens=96,     # short outputs for speed\n",
        "    do_sample=False,       # greedy decoding\n",
        "    top_p=1.0,\n",
        "    pad_token_id=tokenizer.pad_token_id,\n",
        ")\n",
        "\n",
        "\n",
        "print(\"Model ready ✅\")\n"
      ]
    },
    {
      "cell_type": "code",
      "execution_count": null,
      "metadata": {
        "colab": {
          "base_uri": "https://localhost:8080/"
        },
        "id": "PpGpbJOhrhcv",
        "outputId": "0aeffcc5-97ee-483a-be64-976acda4ae3a"
      },
      "outputs": [
        {
          "output_type": "stream",
          "name": "stdout",
          "text": [
            "FAISS index built ✅\n"
          ]
        }
      ],
      "source": [
        "from sentence_transformers import SentenceTransformer\n",
        "import faiss\n",
        "import numpy as np\n",
        "\n",
        "# 1) Create embeddings model for retrieval\n",
        "embedder = SentenceTransformer(\"all-MiniLM-L6-v2\")\n",
        "\n",
        "# Prepare FAISS index\n",
        "doc_embeddings = embedder.encode([d[\"content\"] for d in KB])\n",
        "index = faiss.IndexFlatL2(doc_embeddings.shape[1])\n",
        "index.add(np.array(doc_embeddings))\n",
        "\n",
        "print(\"FAISS index built ✅\")\n",
        "\n",
        "# 2) Retrieval function\n",
        "def retrieve(query, k=2):\n",
        "    query_emb = embedder.encode([query])\n",
        "    D, I = index.search(np.array(query_emb), k)\n",
        "    return [KB[i] for i in I[0]]\n",
        "\n",
        "# 3) Generate answer using retrieved docs + distilgpt2\n",
        "def rag_answer(query, k=2):\n",
        "    docs = retrieve(query, k)\n",
        "    context = \"\\n\\n\".join([f\"{d['title']}: {d['content']}\" for d in docs])\n",
        "    sources = \"; \".join([d[\"title\"] for d in docs])\n",
        "\n",
        "    prompt = f\"\"\"You are a ShopLite assistant.\n",
        "Answer the user using only the context below.\n",
        "If the answer is not in the context, reply exactly: \"I don’t know based on ShopLite docs.\"\n",
        "\n",
        "Context:\n",
        "{context}\n",
        "\n",
        "Question: {query}\n",
        "Answer:\"\"\"\n",
        "\n",
        "    output = gen(prompt, max_new_tokens=128)[0][\"generated_text\"]\n",
        "\n",
        "    # Post-process: cut answer after \"Answer:\" to remove prompt echo\n",
        "    answer = output.split(\"Answer:\")[-1].strip()\n",
        "\n",
        "    # Guardrail: if model ignored instructions and rambled nonsense\n",
        "    if not any(keyword in answer.lower() for keyword in [\"shoplite\", \"seller\", \"buyer\", \"account\", \"verification\", \"dashboard\", \"tax id\"]):\n",
        "        answer = \"I don’t know based on ShopLite docs.\"\n",
        "\n",
        "    return {\"answer\": answer, \"sources\": sources}\n"
      ]
    },
    {
      "cell_type": "code",
      "execution_count": null,
      "metadata": {
        "id": "6sGQInzwx_wV"
      },
      "outputs": [],
      "source": [
        "from flask import Flask, request, jsonify\n",
        "\n",
        "app = Flask(__name__)\n",
        "\n",
        "@app.route(\"/health\", methods=[\"GET\"])\n",
        "def health():\n",
        "    return jsonify({\"status\": \"ok\", \"message\": \"RAG system is running\"}), 200\n",
        "\n",
        "@app.route(\"/ping\", methods=[\"POST\"])\n",
        "def ping():\n",
        "    data = request.get_json()\n",
        "    text = data.get(\"text\", \"\")\n",
        "    if not text:\n",
        "        return jsonify({\"error\": \"No text provided\"}), 400\n",
        "    out = gen(text, max_new_tokens=60)[0][\"generated_text\"]\n",
        "    return jsonify({\"response\": out})\n",
        "\n",
        "@app.route(\"/chat\", methods=[\"POST\"])\n",
        "def chat():\n",
        "    data = request.get_json()\n",
        "    query = data.get(\"query\", \"\")\n",
        "    if not query:\n",
        "        return jsonify({\"error\": \"No query provided\"}), 400\n",
        "\n",
        "    try:\n",
        "        answer = rag_answer(query)\n",
        "        return jsonify({\n",
        "            \"query\": query,\n",
        "            \"answer\": answer\n",
        "        })\n",
        "    except Exception as e:\n",
        "        return jsonify({\"error\": str(e)}), 500\n"
      ]
    },
    {
      "cell_type": "code",
      "execution_count": null,
      "metadata": {
        "colab": {
          "base_uri": "https://localhost:8080/"
        },
        "id": "rn_toS-d1_fz",
        "outputId": "3e842e66-6e98-4afb-da8f-bc9274a7dbc3"
      },
      "outputs": [
        {
          "output_type": "stream",
          "name": "stdout",
          "text": [
            "Enter your ngrok token: 33V6npEpfB8PNLGzXL1glRcUXdX_C68z5eUkEzsHpRFL72St\n",
            "✅ ngrok tunnel created:\n",
            "Public URL: NgrokTunnel: \"https://multivocal-undulatingly-tatum.ngrok-free.dev\" -> \"http://localhost:5000\"\n",
            " * Serving Flask app '__main__'\n",
            " * Debug mode: off\n"
          ]
        },
        {
          "output_type": "stream",
          "name": "stderr",
          "text": [
            "Address already in use\n",
            "Port 5000 is in use by another program. Either identify and stop that program, or start the server with a different port.\n"
          ]
        }
      ],
      "source": [
        "from pyngrok import ngrok\n",
        "\n",
        "# Ask for ngrok token securely\n",
        "NGROK_TOKEN = input(\"Enter your ngrok token: \")\n",
        "\n",
        "# Auth + start tunnel\n",
        "ngrok.set_auth_token(NGROK_TOKEN)\n",
        "public_url = ngrok.connect(5000)\n",
        "\n",
        "print(\"✅ ngrok tunnel created:\")\n",
        "print(\"Public URL:\", public_url)\n",
        "\n",
        "# Start Flask app\n",
        "import threading\n",
        "\n",
        "def run_app():\n",
        "    app.run(port=5000)\n",
        "\n",
        "# Run Flask in background thread\n",
        "threading.Thread(target=run_app).start()\n",
        "\n"
      ]
    },
    {
      "cell_type": "code",
      "source": [
        "import requests\n",
        "\n",
        "BASE = \"https://multivocal-undulatingly-tatum.ngrok-free.dev\"\n",
        "\n",
        "# Health check\n",
        "print(\"Health:\", requests.get(f\"{BASE}/health\").json())\n",
        "\n",
        "# Ping test\n",
        "print(\"Ping:\", requests.post(f\"{BASE}/ping\", json={\"text\": \"Hello!\"}).json())\n",
        "\n",
        "# Chat (RAG) test\n",
        "q = \"How do I register as a seller on ShopLite?\"\n",
        "res = requests.post(f\"{BASE}/chat\", json={\"query\": q}).json()\n",
        "print(\"Chat response:\", res)\n"
      ],
      "metadata": {
        "colab": {
          "base_uri": "https://localhost:8080/"
        },
        "id": "iiyHlwhJjgDb",
        "outputId": "65e5879a-7337-40ce-a8a4-67cf6d9a4046"
      },
      "execution_count": null,
      "outputs": [
        {
          "output_type": "stream",
          "name": "stderr",
          "text": [
            "INFO:werkzeug:127.0.0.1 - - [02/Oct/2025 20:59:35] \"GET /health HTTP/1.1\" 200 -\n"
          ]
        },
        {
          "output_type": "stream",
          "name": "stdout",
          "text": [
            "Health: {'message': 'RAG system is running', 'status': 'ok'}\n"
          ]
        },
        {
          "output_type": "stream",
          "name": "stderr",
          "text": [
            "INFO:werkzeug:127.0.0.1 - - [02/Oct/2025 20:59:38] \"POST /ping HTTP/1.1\" 200 -\n"
          ]
        },
        {
          "output_type": "stream",
          "name": "stdout",
          "text": [
            "Ping: {'response': \"Hello! And I'm not sure if you're on your favorite site, but I'm sure you've already enjoyed the site. If you're not, I'm sure you've already enjoyed the site. If you're not, I'm sure you've already enjoyed the site. If you're not, I\"}\n"
          ]
        },
        {
          "output_type": "stream",
          "name": "stderr",
          "text": [
            "INFO:werkzeug:127.0.0.1 - - [02/Oct/2025 20:59:46] \"POST /chat HTTP/1.1\" 200 -\n"
          ]
        },
        {
          "output_type": "stream",
          "name": "stdout",
          "text": [
            "Chat response: {'answer': {'answer': 'I register as a seller on ShopLite. I am a licensed seller, and I am not a seller.\\nI register as a seller on ShopLite. I am not a seller.\\nI register as a seller on ShopLite. I am not a seller.\\nI register as a seller on ShopLite. I am not a seller.\\nI register as a seller on ShopLite. I am not a seller.\\nI register as a seller on ShopLite. I am not a seller.\\nI register as a seller on ShopLite. I am not a seller.\\nI register', 'sources': 'Seller Setup & Management; User Registration & Accounts'}, 'query': 'How do I register as a seller on ShopLite?'}\n"
          ]
        }
      ]
    },
    {
      "cell_type": "code",
      "source": [
        "import requests, time\n",
        "\n",
        "# wait for Flask\n",
        "time.sleep(2)\n",
        "\n",
        "BASE = public_url.public_url  # <-- get just the https://... string\n",
        "print(\"Public URL:\", BASE)\n",
        "\n",
        "print(\"Health:\", requests.get(f\"{BASE}/health\").json())\n",
        "print(\"Ping:\", requests.post(f\"{BASE}/ping\", json={\"text\": \"Hello!\"}).json())\n",
        "\n",
        "q = \"How do I register as a seller on ShopLite?\"\n",
        "res = requests.post(f\"{BASE}/chat\", json={\"query\": q}).json()\n",
        "print(\"Chat:\", res)\n"
      ],
      "metadata": {
        "colab": {
          "base_uri": "https://localhost:8080/"
        },
        "id": "ay-mHCzGrHqN",
        "outputId": "c6013c67-d6a3-4440-cc64-87e23e7ff399"
      },
      "execution_count": null,
      "outputs": [
        {
          "output_type": "stream",
          "name": "stdout",
          "text": [
            "Public URL: https://multivocal-undulatingly-tatum.ngrok-free.dev\n"
          ]
        },
        {
          "output_type": "stream",
          "name": "stderr",
          "text": [
            "INFO:werkzeug:127.0.0.1 - - [02/Oct/2025 20:59:48] \"GET /health HTTP/1.1\" 200 -\n"
          ]
        },
        {
          "output_type": "stream",
          "name": "stdout",
          "text": [
            "Health: {'message': 'RAG system is running', 'status': 'ok'}\n"
          ]
        },
        {
          "output_type": "stream",
          "name": "stderr",
          "text": [
            "INFO:werkzeug:127.0.0.1 - - [02/Oct/2025 20:59:51] \"POST /ping HTTP/1.1\" 200 -\n"
          ]
        },
        {
          "output_type": "stream",
          "name": "stdout",
          "text": [
            "Ping: {'response': 'Hello!\\n\\n\\n\\n\\n\\n\\n\\n\\n\\n\\n\\n\\n\\n\\n\\n\\n\\n\\n\\n\\n\\n\\n\\n\\n\\n\\n\\n\\n\\n\\n\\n\\n\\n\\n\\n\\n\\n\\n\\n\\n\\n\\n\\n\\n\\n\\n\\n\\n\\n\\n\\n\\n\\n\\n\\n\\n\\n\\n\\n'}\n"
          ]
        },
        {
          "output_type": "stream",
          "name": "stderr",
          "text": [
            "INFO:werkzeug:127.0.0.1 - - [02/Oct/2025 20:59:59] \"POST /chat HTTP/1.1\" 200 -\n"
          ]
        },
        {
          "output_type": "stream",
          "name": "stdout",
          "text": [
            "Chat: {'answer': {'answer': 'The seller must comply with the seller’s requirements and agree to be paid for at least 30 days of service. If the seller is not authorized to sell, the seller must complete the verification process. The seller must comply with the seller’s requirements and agree to be paid for at least 30 days of service.\\nThe buyer must comply with the seller’s requirements and agree to be paid for at least 30 days of service. If the seller is not authorized to sell, the seller must complete the verification process. The seller must comply with the seller’s requirements and agree to be paid for at least 30 days', 'sources': 'Seller Setup & Management; User Registration & Accounts'}, 'query': 'How do I register as a seller on ShopLite?'}\n"
          ]
        }
      ]
    },
    {
      "cell_type": "code",
      "source": [
        "import requests\n",
        "\n",
        "BASE = public_url.public_url   # just the https://... string from ngrok\n",
        "print(\"Health:\", requests.get(f\"{BASE}/health\").json())\n"
      ],
      "metadata": {
        "colab": {
          "base_uri": "https://localhost:8080/"
        },
        "id": "JiXzcjC5v4Zm",
        "outputId": "c7901a68-203c-4de6-ed96-225cca0d530a"
      },
      "execution_count": null,
      "outputs": [
        {
          "output_type": "stream",
          "name": "stderr",
          "text": [
            "INFO:werkzeug:127.0.0.1 - - [02/Oct/2025 21:06:34] \"GET /health HTTP/1.1\" 200 -\n"
          ]
        },
        {
          "output_type": "stream",
          "name": "stdout",
          "text": [
            "Health: {'message': 'RAG system is running', 'status': 'ok'}\n"
          ]
        }
      ]
    },
    {
      "cell_type": "code",
      "source": [
        "print(\"Ping:\", requests.post(f\"{BASE}/ping\", json={\"text\": \"Hello!\"}).json())\n"
      ],
      "metadata": {
        "colab": {
          "base_uri": "https://localhost:8080/"
        },
        "id": "xYkhT37vv8j-",
        "outputId": "999eb50e-1446-458e-e178-f3483275b2ab"
      },
      "execution_count": null,
      "outputs": [
        {
          "output_type": "stream",
          "name": "stderr",
          "text": [
            "INFO:werkzeug:127.0.0.1 - - [02/Oct/2025 21:06:53] \"POST /ping HTTP/1.1\" 200 -\n"
          ]
        },
        {
          "output_type": "stream",
          "name": "stdout",
          "text": [
            "Ping: {'response': 'Hello!\\n\\n\\nI want to thank all the guys who helped me on this project, so much to the people on the team, and to the people who helped me on this project. As a reminder, in order to get this done, I have been working on the documentation for this project for some'}\n"
          ]
        }
      ]
    }
  ],
  "metadata": {
    "colab": {
      "provenance": [],
      "toc_visible": true
    },
    "kernelspec": {
      "display_name": "Python 3",
      "name": "python3"
    },
    "language_info": {
      "name": "python"
    }
  },
  "nbformat": 4,
  "nbformat_minor": 0
}
